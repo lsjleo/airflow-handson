{
 "cells": [
  {
   "cell_type": "code",
   "execution_count": null,
   "id": "10930019-cf9d-4d80-b15f-c83601a11ffb",
   "metadata": {
    "tags": []
   },
   "outputs": [],
   "source": [
    "from snowflake.snowpark import functions as f\n",
    "from snowflake.snowpark.types import *\n",
    "%env GOOGLE_OAUTH_DOMAIN=descomplica.com.br\n",
    "%load_ext snowpark\n",
    "%snowpark_session"
   ]
  },
  {
   "cell_type": "code",
   "execution_count": null,
   "id": "fc87d09d-ca21-4e30-8547-baf21d7edee8",
   "metadata": {
    "tags": []
   },
   "outputs": [],
   "source": [
    "session = _"
   ]
  },
  {
   "cell_type": "code",
   "execution_count": null,
   "id": "28a3bf94-6f44-4364-b599-96de96884e5f",
   "metadata": {
    "tags": []
   },
   "outputs": [],
   "source": [
    "query = f\"\"\"\n",
    "\"\"\"\n",
    "df = session.sql(query)"
   ]
  }
 ],
 "metadata": {
  "kernelspec": {
   "display_name": "Python 3 (ipykernel)",
   "language": "python",
   "name": "python3"
  },
  "language_info": {
   "codemirror_mode": {
    "name": "ipython",
    "version": 3
   },
   "file_extension": ".py",
   "mimetype": "text/x-python",
   "name": "python",
   "nbconvert_exporter": "python",
   "pygments_lexer": "ipython3",
   "version": "3.8.16"
  }
 },
 "nbformat": 4,
 "nbformat_minor": 5
}
