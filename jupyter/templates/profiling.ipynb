{
 "cells": [
  {
   "cell_type": "markdown",
   "id": "d60e5060",
   "metadata": {},
   "source": [
    "# PROFILING WITH PANDASPROFILING"
   ]
  },
  {
   "cell_type": "code",
   "execution_count": null,
   "id": "1b17524b-8c83-4b76-b157-db2d363bdf55",
   "metadata": {
    "tags": []
   },
   "outputs": [],
   "source": [
    "import pandas as pd\n",
    "from ydata_profiling import ProfileReport\n",
    "\n",
    "df = pd.read_csv('https://raw.githubusercontent.com/mwaskom/seaborn-data/master/iris.csv')\n",
    "\n",
    "profile = ProfileReport(df, title=\"Profiling Report\")\n",
    "profile.to_notebook_iframe()"
   ]
  },
  {
   "cell_type": "markdown",
   "id": "5b20d37d",
   "metadata": {},
   "source": [
    "# PROFILING WITH DIGINLINEPROFILING"
   ]
  },
  {
   "cell_type": "code",
   "execution_count": null,
   "id": "c60a5177",
   "metadata": {},
   "outputs": [],
   "source": [
    "from diginlineprofiler import Visualizer as plot\n",
    "plot(df)"
   ]
  },
  {
   "cell_type": "markdown",
   "id": "c02d5447",
   "metadata": {},
   "source": [
    "# PROFILING WITH DTALE"
   ]
  },
  {
   "cell_type": "code",
   "execution_count": null,
   "id": "02f5a569",
   "metadata": {},
   "outputs": [],
   "source": [
    "import dtale\n",
    "d = dtale.show(df)"
   ]
  },
  {
   "cell_type": "markdown",
   "id": "9ef7303b",
   "metadata": {},
   "source": [
    "# PROFILING WITH LUX"
   ]
  },
  {
   "cell_type": "code",
   "execution_count": null,
   "id": "c429c30e",
   "metadata": {},
   "outputs": [],
   "source": [
    "import lux\n",
    "df"
   ]
  }
 ],
 "metadata": {
  "kernelspec": {
   "display_name": "Python 3 (ipykernel)",
   "language": "python",
   "name": "python3"
  },
  "language_info": {
   "codemirror_mode": {
    "name": "ipython",
    "version": 3
   },
   "file_extension": ".py",
   "mimetype": "text/x-python",
   "name": "python",
   "nbconvert_exporter": "python",
   "pygments_lexer": "ipython3",
   "version": "3.8.17"
  }
 },
 "nbformat": 4,
 "nbformat_minor": 5
}
