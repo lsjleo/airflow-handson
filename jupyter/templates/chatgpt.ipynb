{
 "cells": [
  {
   "cell_type": "code",
   "execution_count": null,
   "id": "130b6184-0c72-415a-b6a6-758e5ddf6606",
   "metadata": {},
   "outputs": [],
   "source": [
    "%load_ext jupyter_ai\n",
    "%env OPENAI_API_KEY=\n",
    "%%ai chatgpt\n",
    "place your chatgpt text here!"
   ]
  }
 ],
 "metadata": {
  "kernelspec": {
   "display_name": "Python 3 (ipykernel)",
   "language": "python",
   "name": "python3"
  },
  "language_info": {
   "codemirror_mode": {
    "name": "ipython",
    "version": 3
   },
   "file_extension": ".py",
   "mimetype": "text/x-python",
   "name": "python",
   "nbconvert_exporter": "python",
   "pygments_lexer": "ipython3",
   "version": "3.8.17"
  }
 },
 "nbformat": 4,
 "nbformat_minor": 5
}
